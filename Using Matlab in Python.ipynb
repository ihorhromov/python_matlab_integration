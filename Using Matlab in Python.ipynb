{
 "cells": [
  {
   "cell_type": "code",
   "execution_count": 1,
   "metadata": {},
   "outputs": [],
   "source": [
    "import matlab.engine"
   ]
  },
  {
   "cell_type": "code",
   "execution_count": 2,
   "metadata": {},
   "outputs": [],
   "source": [
    "eng = matlab.engine.start_matlab()\n"
   ]
  },
  {
   "cell_type": "code",
   "execution_count": 3,
   "metadata": {},
   "outputs": [
    {
     "name": "stdout",
     "output_type": "stream",
     "text": [
      "True\n"
     ]
    }
   ],
   "source": [
    "tf = eng.isprime(37)\n",
    "print(tf)\n"
   ]
  },
  {
   "cell_type": "code",
   "execution_count": 4,
   "metadata": {},
   "outputs": [
    {
     "name": "stdout",
     "output_type": "stream",
     "text": [
      "(20.0, 1.0, -1.0)\n"
     ]
    }
   ],
   "source": [
    "t = eng.gcd(100.0,80.0,nargout=3)\n",
    "print(t)"
   ]
  },
  {
   "cell_type": "code",
   "execution_count": 5,
   "metadata": {},
   "outputs": [
    {
     "name": "stdout",
     "output_type": "stream",
     "text": [
      "2.0\n"
     ]
    }
   ],
   "source": [
    "\n",
    "x = 4.0\n",
    "eng.workspace['y'] = x\n",
    "a = eng.eval('sqrt(y)')\n",
    "print(a)"
   ]
  },
  {
   "cell_type": "code",
   "execution_count": 6,
   "metadata": {},
   "outputs": [],
   "source": [
    "\n",
    "px = eng.linspace(0.0,6.28,1000)"
   ]
  },
  {
   "cell_type": "code",
   "execution_count": 7,
   "metadata": {},
   "outputs": [
    {
     "name": "stdout",
     "output_type": "stream",
     "text": [
      "3.14159265359\n"
     ]
    }
   ],
   "source": [
    "eng.eval('a = pi;',nargout=0)\n",
    "mpi = eng.workspace['a']\n",
    "print(mpi)"
   ]
  },
  {
   "cell_type": "code",
   "execution_count": 8,
   "metadata": {},
   "outputs": [
    {
     "name": "stdout",
     "output_type": "stream",
     "text": [
      "Warning: At least one of the input numbers is larger than the largest integer-valued floating-point number (2^52). Results may be unpredictable.\n",
      "> In dec2hex (line 31)\n",
      "\n"
     ]
    }
   ],
   "source": [
    "import StringIO\n",
    "out = StringIO.StringIO()\n",
    "err = StringIO.StringIO()\n",
    "ret = eng.dec2hex(2**60,stdout=out,stderr=err)\n",
    "print(out.getvalue())"
   ]
  },
  {
   "cell_type": "code",
   "execution_count": 51,
   "metadata": {},
   "outputs": [],
   "source": [
    "eng.eval(\"x = 0:0.5:10;\",nargout=0)\n",
    "eng.eval(\"y = 0:20;\",nargout=0)\n"
   ]
  },
  {
   "cell_type": "code",
   "execution_count": 52,
   "metadata": {},
   "outputs": [],
   "source": [
    "a=eng.meshgrid(eng.workspace['x'],eng.workspace['y'])"
   ]
  },
  {
   "cell_type": "code",
   "execution_count": 53,
   "metadata": {},
   "outputs": [
    {
     "data": {
      "text/plain": [
       "<matlab.object at 0x4755cc8>"
      ]
     },
     "execution_count": 53,
     "metadata": {},
     "output_type": "execute_result"
    }
   ],
   "source": [
    "eng.surf(a)"
   ]
  },
  {
   "cell_type": "code",
   "execution_count": 54,
   "metadata": {},
   "outputs": [
    {
     "name": "stdout",
     "output_type": "stream",
     "text": [
      "7.5\n"
     ]
    }
   ],
   "source": [
    "tr = eng.Triangle(5.0,3.0)\n",
    "a = eng.area(tr)\n",
    "print(a)"
   ]
  },
  {
   "cell_type": "code",
   "execution_count": 55,
   "metadata": {},
   "outputs": [
    {
     "name": "stdout",
     "output_type": "stream",
     "text": [
      "5.0\n"
     ]
    }
   ],
   "source": [
    "eng.workspace[\"wtr\"] = tr\n",
    "b = eng.eval(\"wtr.Base\")\n",
    "print(b)"
   ]
  },
  {
   "cell_type": "code",
   "execution_count": 56,
   "metadata": {},
   "outputs": [
    {
     "name": "stdout",
     "output_type": "stream",
     "text": [
      "20.0\n"
     ]
    }
   ],
   "source": [
    "eng.setHeight(tr,8.0,nargout=0)\n",
    "a = eng.area(tr)\n",
    "print(a)"
   ]
  },
  {
   "cell_type": "code",
   "execution_count": 57,
   "metadata": {},
   "outputs": [],
   "source": [
    "eng.eval(\"T = readtable('patients.dat');\",nargout=0)"
   ]
  },
  {
   "cell_type": "code",
   "execution_count": 58,
   "metadata": {},
   "outputs": [],
   "source": [
    "eng.eval(\"S = table2struct(T,'ToScalar',true);\",nargout=0)\n",
    "eng.eval(\"disp(S)\",nargout=0)"
   ]
  },
  {
   "cell_type": "code",
   "execution_count": 59,
   "metadata": {},
   "outputs": [],
   "source": [
    "D = eng.workspace[\"S\"]"
   ]
  },
  {
   "cell_type": "code",
   "execution_count": 60,
   "metadata": {},
   "outputs": [],
   "source": [
    "smoker = matlab.logical(D[\"Smoker\"])"
   ]
  },
  {
   "cell_type": "code",
   "execution_count": 61,
   "metadata": {},
   "outputs": [],
   "source": [
    "pressure = D[\"Diastolic\"]\n",
    "pressure.reshape((1,100))\n",
    "pressure = pressure[0]\n",
    "smoker.reshape((1,100))\n",
    "smoker = smoker[0]"
   ]
  },
  {
   "cell_type": "code",
   "execution_count": 62,
   "metadata": {},
   "outputs": [],
   "source": [
    "sp = [p for (p,s) in zip(pressure,smoker) if s is True]\n",
    "nsp = [p for (p,s) in zip(pressure,smoker) if s is False]"
   ]
  },
  {
   "cell_type": "code",
   "execution_count": 63,
   "metadata": {},
   "outputs": [
    {
     "name": "stdout",
     "output_type": "stream",
     "text": [
      "34\n",
      "66\n"
     ]
    }
   ],
   "source": [
    "print(len(sp))\n",
    "print(len(nsp))"
   ]
  },
  {
   "cell_type": "code",
   "execution_count": 64,
   "metadata": {},
   "outputs": [
    {
     "name": "stdout",
     "output_type": "stream",
     "text": [
      "89.9117647059\n"
     ]
    }
   ],
   "source": [
    "sp = matlab.double(sp)\n",
    "nsp = matlab.double(nsp)\n",
    "print(eng.mean(sp))"
   ]
  },
  {
   "cell_type": "code",
   "execution_count": 65,
   "metadata": {},
   "outputs": [
    {
     "name": "stdout",
     "output_type": "stream",
     "text": [
      "79.3787878788\n"
     ]
    }
   ],
   "source": [
    "print(eng.mean(nsp))"
   ]
  },
  {
   "cell_type": "code",
   "execution_count": 66,
   "metadata": {},
   "outputs": [],
   "source": [
    "sdx = eng.linspace(1.0,34.0,34)\n",
    "nsdx = eng.linspace(1.0,34.0,66)"
   ]
  },
  {
   "cell_type": "code",
   "execution_count": 67,
   "metadata": {},
   "outputs": [],
   "source": [
    "eng.figure(nargout=0)\n",
    "eng.hold(\"on\",nargout=0)\n",
    "eng.box(\"on\",nargout=0)"
   ]
  },
  {
   "cell_type": "code",
   "execution_count": 68,
   "metadata": {},
   "outputs": [],
   "source": [
    "eng.scatter(sdx,sp,10,'blue')\n",
    "h = eng.scatter(nsdx,nsp,10,'red')\n",
    "h = eng.xlabel(\"Patient (Anonymized)\")\n",
    "h = eng.ylabel(\"Diastolic Blood Pressure (mm Hg)\")\n",
    "h = eng.title(\"Blood Pressure Readings for All Patients\")\n",
    "h = eng.legend(\"Smokers\",\"Nonsmokers\")"
   ]
  },
  {
   "cell_type": "code",
   "execution_count": 69,
   "metadata": {},
   "outputs": [],
   "source": [
    "x = matlab.double([0,35])\n",
    "y = matlab.double([89.9,89.9])\n",
    "h = eng.line(x,y,\"Color\",\"blue\")\n",
    "h = eng.text(21.0,88.5,\"89.9 (Smoker avg.)\",\"Color\",\"blue\")\n",
    "y = matlab.double([79.4,79.4])\n",
    "h = eng.line(x,y,\"Color\",\"red\")\n",
    "h = eng.text(5.0,81.0,\"79.4 (Nonsmoker avg.)\",\"Color\",\"red\")"
   ]
  },
  {
   "cell_type": "code",
   "execution_count": 70,
   "metadata": {},
   "outputs": [],
   "source": [
    "eng.doc(\"plot\",nargout=0)"
   ]
  },
  {
   "cell_type": "code",
   "execution_count": null,
   "metadata": {},
   "outputs": [],
   "source": []
  }
 ],
 "metadata": {
  "kernelspec": {
   "display_name": "Python 2",
   "language": "python",
   "name": "python2"
  },
  "language_info": {
   "codemirror_mode": {
    "name": "ipython",
    "version": 2
   },
   "file_extension": ".py",
   "mimetype": "text/x-python",
   "name": "python",
   "nbconvert_exporter": "python",
   "pygments_lexer": "ipython2",
   "version": "2.7.15"
  }
 },
 "nbformat": 4,
 "nbformat_minor": 2
}
